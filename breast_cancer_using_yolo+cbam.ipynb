{
 "cells": [
  {
   "cell_type": "code",
   "execution_count": null,
   "id": "79598047",
   "metadata": {},
   "outputs": [],
   "source": [
    "import torch\n",
    "import torch.nn as nn\n",
    "import torch.nn.functional as F\n",
    "from ultralytics.nn.modules.block import C2f\n",
    "from ultralytics import YOLO\n",
    "\n",
    "\n",
    "class ChannelAttention(nn.Module):\n",
    "    def __init__(self, in_channels, reduction=16):\n",
    "        super(ChannelAttention, self).__init__()\n",
    "        self.avg_pool = nn.AdaptiveAvgPool2d(1)\n",
    "        self.max_pool = nn.AdaptiveMaxPool2d(1)\n",
    "\n",
    "        self.fc = nn.Sequential(\n",
    "            nn.Conv2d(in_channels, in_channels // reduction, 1, bias=False),\n",
    "            nn.ReLU(),\n",
    "            nn.Conv2d(in_channels // reduction, in_channels, 1, bias=False)\n",
    "        )\n",
    "        self.sigmoid = nn.Sigmoid()\n",
    "\n",
    "\n",
    "    def forward(self, x):\n",
    "        avg_out = self.fc(self.avg_pool(x))\n",
    "        max_out = self.fc(self.max_pool(x))\n",
    "        out = avg_out + max_out\n",
    "        return self.sigmoid(out)\n",
    "\n",
    "class SpatialAttention(nn.Module):\n",
    "    def __init__(self, kernel_size=7):\n",
    "        super(SpatialAttention, self).__init__()\n",
    "        self.conv = nn.Conv2d(2, 1, kernel_size, padding=kernel_size//2, bias=False)\n",
    "        self.sigmoid = nn.Sigmoid()\n",
    "\n",
    "    def forward(self, x):\n",
    "        avg_out = torch.mean(x, dim=1, keepdim=True)\n",
    "        max_out, _ = torch.max(x, dim=1, keepdim=True)\n",
    "        x_cat = torch.cat([avg_out, max_out], dim=1)\n",
    "        return self.sigmoid(self.conv(x_cat))\n",
    "\n",
    "class CBAM(nn.Module):\n",
    "    def __init__(self, channels, reduction=16):\n",
    "        super(CBAM, self).__init__()\n",
    "        self.ca = ChannelAttention(channels, reduction)\n",
    "        self.sa = SpatialAttention()\n",
    "\n",
    "    def forward(self, x):\n",
    "        x = x * self.ca(x)\n",
    "        x = x * self.sa(x)\n",
    "        return x\n"
   ]
  },
  {
   "cell_type": "code",
   "execution_count": null,
   "id": "0a4ef052",
   "metadata": {},
   "outputs": [],
   "source": [
    "class C2fCBAM(nn.Module):\n",
    "    def __init__(self, original_c2f):\n",
    "        super(C2fCBAM, self).__init__()\n",
    "        self.c2f = original_c2f\n",
    "        out_channels = original_c2f.cv2.conv.out_channels  \n",
    "        self.cbam = CBAM(out_channels)\n",
    "\n",
    "    def forward(self, x):\n",
    "        x = self.c2f(x)\n",
    "        return self.cbam(x)"
   ]
  },
  {
   "cell_type": "code",
   "execution_count": null,
   "id": "9e8d8495",
   "metadata": {},
   "outputs": [],
   "source": [
    "def inject_cbam_blocks(model):\n",
    "    for i, layer in enumerate(model.model):\n",
    "        if isinstance(layer, C2f) and i >= 5:  \n",
    "            model.model[i] = C2fCBAM(layer)\n",
    "    return model"
   ]
  },
  {
   "cell_type": "code",
   "execution_count": null,
   "id": "4089f238",
   "metadata": {},
   "outputs": [],
   "source": [
    "def train_model():\n",
    "    model = YOLO(\"yolov8n.pt\")\n",
    "    model.model = inject_cbam_blocks(model.model)\n",
    "\n",
    "    model.train(\n",
    "        data=\"/home/zaman/Code/Breast_Cancer_Detection_and_Monitoring/Cancer.v1i.yolov8/data.yaml\",\n",
    "        epochs=100,\n",
    "        imgsz=640,\n",
    "        batch=4,\n",
    "        optimizer=\"AdamW\",\n",
    "        lr0=0.0005,\n",
    "        weight_decay=0.0005,\n",
    "        amp=True,\n",
    "        device=0,\n",
    "        save=True\n",
    "    )\n",
    "\n",
    "    return model\n",
    "\n",
    "trained_model = train_model()\n"
   ]
  }
 ],
 "metadata": {
  "kernelspec": {
   "display_name": "Python 3",
   "language": "python",
   "name": "python3"
  },
  "language_info": {
   "name": "python",
   "version": "3.10.12"
  }
 },
 "nbformat": 4,
 "nbformat_minor": 5
}
