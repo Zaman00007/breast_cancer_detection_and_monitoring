{
 "cells": [
  {
   "cell_type": "code",
   "execution_count": null,
   "id": "69d7e916",
   "metadata": {},
   "outputs": [],
   "source": [
    "from ultralytics import YOLO\n",
    "\n",
    "model = YOLO('yolov8n.pt') \n",
    "\n",
    "results = model.train(\n",
    "    data='/home/zaman/Code/Breast_Cancer_Detection_and_Monitoring/cancer-bancer.v1i.yolov8/data.yaml',\n",
    "    epochs=100,\n",
    "    imgsz=640,\n",
    "    batch=8,\n",
    "    name='mammo_yolo_detector'\n",
    ")"
   ]
  }
 ],
 "metadata": {
  "language_info": {
   "name": "python"
  }
 },
 "nbformat": 4,
 "nbformat_minor": 5
}
